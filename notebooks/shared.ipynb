{
 "cells": [
  {
   "cell_type": "code",
   "execution_count": null,
   "id": "0",
   "metadata": {},
   "outputs": [],
   "source": [
    "import pm4py\n",
    "from src.data_pipeline.s3 import fetch_file\n",
    "\n",
    "OWNER = \"jcostello93\"\n",
    "REPO = \"node-red-contrib-node-reddit\"\n",
    "S3_BUCKET = \"process-mining-github-issues-staging\"\n",
    "\n",
    "file = f\"{OWNER}_{REPO}_event_log.xes\"\n",
    "issues = fetch_file(file, S3_BUCKET, file)\n",
    "\n",
    "log = pm4py.read_xes(file)\n",
    "print(log.head())"
   ]
  },
  {
   "cell_type": "code",
   "execution_count": null,
   "id": "1",
   "metadata": {},
   "outputs": [],
   "source": []
  }
 ],
 "metadata": {
  "kernelspec": {
   "display_name": "Python 3 (ipykernel)",
   "language": "python",
   "name": "python3"
  },
  "language_info": {
   "codemirror_mode": {
    "name": "ipython",
    "version": 3
   },
   "file_extension": ".py",
   "mimetype": "text/x-python",
   "name": "python",
   "nbconvert_exporter": "python",
   "pygments_lexer": "ipython3",
   "version": "3.13.0"
  }
 },
 "nbformat": 4,
 "nbformat_minor": 5
}
