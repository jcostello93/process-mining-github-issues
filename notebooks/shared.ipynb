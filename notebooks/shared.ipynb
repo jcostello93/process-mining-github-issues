{
 "cells": [
  {
   "cell_type": "code",
   "execution_count": null,
   "id": "0",
   "metadata": {},
   "outputs": [],
   "source": [
    "import os\n",
    "import pm4py\n",
    "from src.data_pipeline.s3 import fetch_file\n",
    "\n",
    "# Define repository and S3 bucket details\n",
    "OWNER = \"jcostello93\"\n",
    "REPO = \"node-red-contrib-node-reddit\"\n",
    "S3_BUCKET = \"process-mining-github-issues-staging\"\n",
    "\n",
    "# Dynamically get the project root directory (one level up from notebooks)\n",
    "NOTEBOOK_DIR = os.path.abspath(os.getcwd())  # Current notebook directory\n",
    "ROOT_DIR = os.path.dirname(NOTEBOOK_DIR)  # Move up one level to project root\n",
    "\n",
    "# Define the file path in the root directory\n",
    "file_name = f\"{OWNER}_{REPO}_event_log.xes\"\n",
    "file_path = os.path.join(ROOT_DIR, file_name)  # Store directly in the root folder\n",
    "\n",
    "# Fetch the file from S3 (if not present locally)\n",
    "local_file = fetch_file(file_path, S3_BUCKET, file_name)\n",
    "\n",
    "# Process the XES file if successfully downloaded\n",
    "if local_file:\n",
    "    log = pm4py.read_xes(local_file)\n",
    "    print(log)\n",
    "else:\n",
    "    print(\"Failed to fetch or process the XES file.\")"
   ]
  },
  {
   "cell_type": "code",
   "execution_count": null,
   "id": "1",
   "metadata": {},
   "outputs": [],
   "source": [
    "noise_threshold = 0\n",
    "petri_net, initial_marking, final_marking = pm4py.discover_petri_net_inductive(\n",
    "    log, noise_threshold=noise_threshold\n",
    ")\n",
    "pm4py.view_petri_net(petri_net, initial_marking, final_marking)"
   ]
  }
 ],
 "metadata": {
  "kernelspec": {
   "display_name": "Python 3 (ipykernel)",
   "language": "python",
   "name": "python3"
  },
  "language_info": {
   "codemirror_mode": {
    "name": "ipython",
    "version": 3
   },
   "file_extension": ".py",
   "mimetype": "text/x-python",
   "name": "python",
   "nbconvert_exporter": "python",
   "pygments_lexer": "ipython3",
   "version": "3.13.0"
  }
 },
 "nbformat": 4,
 "nbformat_minor": 5
}
