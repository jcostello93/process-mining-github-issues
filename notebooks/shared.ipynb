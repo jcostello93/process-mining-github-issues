{
 "cells": [
  {
   "cell_type": "code",
   "execution_count": null,
   "id": "0",
   "metadata": {},
   "outputs": [],
   "source": [
    "import os\n",
    "import pm4py\n",
    "from src.data_pipeline.s3 import fetch_file\n",
    "\n",
    "# Define repository and S3 bucket details\n",
    "OWNER = \"atlassian\"\n",
    "REPO = \"pragmatic-drag-and-drop\"\n",
    "S3_BUCKET = \"process-mining-github-issues-staging\"\n",
    "SAVE_VIS = True\n",
    "\n",
    "# Dynamically get the project root directory (one level up from notebooks)\n",
    "NOTEBOOK_DIR = os.path.abspath(os.getcwd())  # Current notebook directory\n",
    "ROOT_DIR = os.path.dirname(NOTEBOOK_DIR)  # Move up one level to project root\n",
    "\n",
    "# Define the file path in the root directory\n",
    "file_name = f\"{OWNER}_{REPO}_event_log.xes\"\n",
    "file_path = os.path.join(ROOT_DIR, file_name)  # Store directly in the root folder\n",
    "\n",
    "# Fetch the file from S3 (if not present locally)\n",
    "local_file = fetch_file(file_path, S3_BUCKET, file_name)\n",
    "\n",
    "# Process the XES file if successfully downloaded\n",
    "if local_file:\n",
    "    log = pm4py.read_xes(local_file)\n",
    "    print(log.head())\n",
    "else:\n",
    "    print(\"Failed to fetch or process the XES file.\")"
   ]
  },
  {
   "cell_type": "code",
   "execution_count": null,
   "id": "1",
   "metadata": {},
   "outputs": [],
   "source": [
    "import json\n",
    "import matplotlib.pyplot as plt\n",
    "import os\n",
    "import pandas\n",
    "import pm4py\n",
    "\n",
    "from pm4py.algo.conformance.tokenreplay import algorithm as token_based_replay_algorithm\n",
    "from pm4py.algo.evaluation.replay_fitness import algorithm as replay_fitness_algorithm\n",
    "from pm4py.algo.evaluation.precision import algorithm as precision_evaluator_algorithm\n",
    "from pm4py.algo.discovery.dfg.variants import clean_time as clean_dfg_time\n",
    "from pm4py.algo.filtering.dfg.dfg_filtering import clean_dfg_based_on_noise_thresh\n",
    "from pm4py.algo.filtering.dfg.dfg_filtering import filter_dfg_on_activities_percentage\n",
    "from pm4py.algo.filtering.dfg.dfg_filtering import filter_dfg_on_paths_percentage\n",
    "from pm4py.algo.filtering.log.attributes import attributes_filter\n",
    "from pm4py.algo.organizational_mining.sna import util as sna_util\n",
    "from pm4py.algo.organizational_mining.sna import algorithm as sna_algorithm\n",
    "from pm4py.algo.organizational_mining.roles import algorithm as roles_algorithm\n",
    "\n",
    "\n",
    "from pm4py.statistics.traces.generic.log import case_statistics\n",
    "from pm4py.statistics.traces.generic.log.case_statistics import get_median_case_duration\n",
    "from pm4py.statistics.traces.generic.log.case_arrival import get_case_dispersion_avg\n",
    "\n",
    "from pm4py.stats import get_case_duration\n",
    "from pm4py.stats import get_cycle_time\n",
    "from pm4py.stats import get_activity_position_summary\n",
    "from pm4py.stats import get_case_arrival_average\n",
    "\n",
    "from pm4py.util import variants_util\n",
    "\n",
    "from pm4py.visualization.dfg.variants import timeline as timeline_gviz_generator\n",
    "from pm4py.visualization.dfg import visualizer as dfg_visualizer\n",
    "from pm4py.visualization.petri_net import visualizer as petri_net_visualizer\n",
    "from pm4py.visualization.sna import visualizer as sna_vis"
   ]
  },
  {
   "cell_type": "code",
   "execution_count": null,
   "id": "2",
   "metadata": {},
   "outputs": [],
   "source": []
  }
 ],
 "metadata": {
  "kernelspec": {
   "display_name": "Python 3 (ipykernel)",
   "language": "python",
   "name": "python3"
  },
  "language_info": {
   "codemirror_mode": {
    "name": "ipython",
    "version": 3
   },
   "file_extension": ".py",
   "mimetype": "text/x-python",
   "name": "python",
   "nbconvert_exporter": "python",
   "pygments_lexer": "ipython3",
   "version": "3.13.0"
  }
 },
 "nbformat": 4,
 "nbformat_minor": 5
}
